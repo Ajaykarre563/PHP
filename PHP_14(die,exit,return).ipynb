{
  "nbformat": 4,
  "nbformat_minor": 0,
  "metadata": {
    "colab": {
      "provenance": []
    },
    "kernelspec": {
      "name": "python3",
      "display_name": "Python 3"
    },
    "language_info": {
      "name": "python"
    }
  },
  "cells": [
    {
      "cell_type": "markdown",
      "source": [
        "# **die() and exit()**\n",
        "\n",
        "**Both die() and exit() work the same way. They immediately stop the script execution.**\n",
        "\n",
        "**die(\"Error message\") and exit(\"Error message\") can display a message before stopping execution.**"
      ],
      "metadata": {
        "id": "cxAtl6INGc_0"
      }
    },
    {
      "cell_type": "markdown",
      "source": [
        "\n",
        "\n",
        "```\n",
        "die(\"Script stopped due to an error!\");\n",
        "exit(\"Terminating the script.\");\n",
        "\n",
        "```\n",
        "\n"
      ],
      "metadata": {
        "id": "WBsGvKo8G0JC"
      }
    },
    {
      "cell_type": "markdown",
      "source": [
        "# **die.php**"
      ],
      "metadata": {
        "id": "JVWoZLLWHPnL"
      }
    },
    {
      "cell_type": "markdown",
      "source": [
        "\n",
        "\n",
        "```\n",
        "<?php\n",
        "$a = 10;\n",
        "$b = 20;\n",
        "echo $a - $b;\n",
        "echo \"<br/>\";\n",
        "\n",
        "echo $a + $b;\n",
        "echo \"<br/>\";\n",
        "die(); // Script execution stops here\n",
        "echo $a * $b;\n",
        "echo \"<br/>\";\n",
        "echo $a / $b;\n",
        "echo \"<br/>\";\n",
        "?>\n",
        "\n",
        "```\n",
        "\n"
      ],
      "metadata": {
        "id": "NBiE7VW6HSYi"
      }
    },
    {
      "cell_type": "markdown",
      "source": [
        "![Screenshot 2025-04-04 193340.png](data:image/png;base64,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)"
      ],
      "metadata": {
        "id": "IMlSLCokHWR2"
      }
    },
    {
      "cell_type": "markdown",
      "source": [
        "# **exit.php**"
      ],
      "metadata": {
        "id": "FKV_R0VOH25q"
      }
    },
    {
      "cell_type": "markdown",
      "source": [
        "\n",
        "\n",
        "```\n",
        "<?php\n",
        "$a = 10;\n",
        "$b = 20;\n",
        "echo $a - $b;\n",
        "echo \"<br/>\";\n",
        "\n",
        "echo $a + $b;\n",
        "echo \"<br/>\";\n",
        "echo $a * $b;\n",
        "echo \"<br/>\";\n",
        "exit(); // Script execution stops here\n",
        "echo $a / $b;\n",
        "echo \"<br/>\";\n",
        "?>\n",
        "\n",
        "```\n",
        "\n"
      ],
      "metadata": {
        "id": "kZqBxH89H5ek"
      }
    },
    {
      "cell_type": "markdown",
      "source": [
        "![Screenshot 2025-04-04 193621.png](data:image/png;base64,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)"
      ],
      "metadata": {
        "id": "4C0KfssBH9A5"
      }
    },
    {
      "cell_type": "markdown",
      "source": [
        "# **return**\n",
        "\n",
        "return is used inside functions to send back a value and stop further execution inside that function.\n",
        "\n",
        "It does not stop the entire script, only the function that it is inside."
      ],
      "metadata": {
        "id": "3fYjH76lir_i"
      }
    },
    {
      "cell_type": "markdown",
      "source": [
        "# **return.php**"
      ],
      "metadata": {
        "id": "2uNfZ0iuidGZ"
      }
    },
    {
      "cell_type": "markdown",
      "source": [
        "\n",
        "\n",
        "```\n",
        "<?php\n",
        "function add($a, $b) {\n",
        "    return $a + $b; // Function stops here and returns result\n",
        "    echo \"This won't execute\"; // This line will never run\n",
        "}\n",
        "\n",
        "$result = add(10, 20); // Calling the function\n",
        "echo \"Sum: \" . $result; // Displaying the result\n",
        "?>\n",
        "\n",
        "```\n",
        "\n"
      ],
      "metadata": {
        "id": "20_FXH_CigXN"
      }
    },
    {
      "cell_type": "markdown",
      "source": [
        "![Screenshot 2025-04-04 213239.png](data:image/png;base64,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)"
      ],
      "metadata": {
        "id": "Ge2gb5Kyik8Y"
      }
    }
  ]
}