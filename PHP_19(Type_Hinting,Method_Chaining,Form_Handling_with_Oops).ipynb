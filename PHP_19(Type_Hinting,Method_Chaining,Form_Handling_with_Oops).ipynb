{
  "nbformat": 4,
  "nbformat_minor": 0,
  "metadata": {
    "colab": {
      "provenance": []
    },
    "kernelspec": {
      "name": "python3",
      "display_name": "Python 3"
    },
    "language_info": {
      "name": "python"
    }
  },
  "cells": [
    {
      "cell_type": "markdown",
      "source": [
        "# **🔹 What is Type Hinting?**\n",
        "\n",
        "Type hinting in PHP allows you to specify the expected data type (e.g., int, string, array) for function arguments and return values to avoid unexpected bugs.\n",
        "\n"
      ],
      "metadata": {
        "id": "l4Ku45yFyA6Z"
      }
    },
    {
      "cell_type": "markdown",
      "source": [
        "# **🔹 How to Apply Type Hinting**\n",
        "You add the type before the variable name in function parameters and after a colon for return type.\n",
        "\n",
        "**Example:**\n",
        "\n",
        "\n",
        "```\n",
        "function add(int $a, int $b): int {\n",
        "    return $a + $b;\n",
        "}\n",
        "\n",
        "```\n",
        "\n"
      ],
      "metadata": {
        "id": "tipXEPyDyLU8"
      }
    },
    {
      "cell_type": "markdown",
      "source": [
        "# **🔹 Example of Why This is Important**\n",
        "\n",
        "Type hinting ensures correct data is passed to functions, reducing runtime errors and improving code reliability."
      ],
      "metadata": {
        "id": "4ppNu9y3yhw_"
      }
    },
    {
      "cell_type": "markdown",
      "source": [
        "\n",
        "\n",
        "```\n",
        "<?php\n",
        "class Fruits {\n",
        "    function getName(string|array $name) {\n",
        "        print_r($name); // use print_r for arrays\n",
        "    }\n",
        "}\n",
        "\n",
        "$f1 = new Fruits;\n",
        "$f1->getName(\"apple\"); // Outputs: apple\n",
        "echo \"<br/>\";\n",
        "$f1->getName([\"apple\", \"banana\"]); // Outputs: Array ( [0] => apple [1] => banana )\n",
        "?>\n",
        "\n",
        "```\n",
        "\n"
      ],
      "metadata": {
        "id": "aRabUJ_E0fzM"
      }
    },
    {
      "cell_type": "markdown",
      "source": [
        "![image.png](data:image/png;base64,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)"
      ],
      "metadata": {
        "id": "1v9IT4ZS2Sbz"
      }
    },
    {
      "cell_type": "markdown",
      "source": [
        "# **🔹 What is Method Chaining?**\n",
        "\n",
        "Method chaining in PHP is when you call multiple methods in a single line, one after another using the -> operator.\n",
        "Each method returns the object itself ($this), enabling the next method to be called.\n",
        "\n"
      ],
      "metadata": {
        "id": "BL3flA-b3xzW"
      }
    },
    {
      "cell_type": "markdown",
      "source": [
        "# **sample code:**"
      ],
      "metadata": {
        "id": "NSmc82bi4ae1"
      }
    },
    {
      "cell_type": "markdown",
      "source": [
        "\n",
        "\n",
        "```\n",
        "<?php\n",
        "class Company {\n",
        "    function getName() {\n",
        "        echo \"This is Honda Motors. \";\n",
        "        return $this;\n",
        "    }\n",
        "\n",
        "    function getEmp() {\n",
        "        echo \"Honda has 30000 Employees. \";\n",
        "        return $this;\n",
        "    }\n",
        "\n",
        "    function getTotalOffice() {\n",
        "        echo \"Honda has 200 Offices\";\n",
        "    }\n",
        "}\n",
        "\n",
        "$company = new Company();\n",
        "$company->getName()->getEmp()->getTotalOffice();\n",
        "?>\n",
        "\n",
        "```\n",
        "\n"
      ],
      "metadata": {
        "id": "TUQfAg-w4dlm"
      }
    },
    {
      "cell_type": "markdown",
      "source": [
        "![image.png](data:image/png;base64,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)"
      ],
      "metadata": {
        "id": "T-2NMkXj4jN-"
      }
    },
    {
      "cell_type": "markdown",
      "source": [
        "# **Form Handling with OOps:**"
      ],
      "metadata": {
        "id": "IK7lgo1J6q36"
      }
    },
    {
      "cell_type": "markdown",
      "source": [
        "\n",
        "\n",
        "```\n",
        "<?php\n",
        "// Define the class\n",
        "class User {\n",
        "    function getName($name) {\n",
        "        echo \"User name is $name\";\n",
        "    }\n",
        "}\n",
        "\n",
        "// Check if form is submitted\n",
        "if (isset($_POST['user'])) {\n",
        "    // Sanitize input\n",
        "    $name = htmlspecialchars($_POST['user']);\n",
        "\n",
        "    // Create object and call class function\n",
        "    $user = new User();\n",
        "    $user->getName($name);\n",
        "}\n",
        "?>\n",
        "\n",
        "<!-- HTML Form -->\n",
        "<form action=\"\" method=\"post\">\n",
        "    <input type=\"text\" name=\"user\" placeholder=\"Enter User Name\" required>\n",
        "    <br><br>\n",
        "    <button type=\"submit\">Click</button>\n",
        "</form>\n",
        "\n",
        "```\n",
        "\n"
      ],
      "metadata": {
        "id": "UK2tZ_CY6yzn"
      }
    },
    {
      "cell_type": "markdown",
      "source": [
        "![image.png](data:image/png;base64,iVBORw0KGgoAAAANSUhEUgAAAZcAAADeCAYAAADxRk0dAAAAAXNSR0IArs4c6QAAAARnQU1BAACxjwv8YQUAAAAJcEhZcwAADsMAAA7DAcdvqGQAABQTSURBVHhe7d1/TNRngsfxD5dugslewmBjh7QbDlMNQ2zPobfpanb/AGKstL2kaN0Au+1WcdMtbpNFgtsWr2ll20rRJq02m1aw242Qusomu+dYY4A/bGCb2zKs2zAcGlhzGqa0Asn2zklq8twf84PvfJmRGXl0Fd6vZP7geZ7vT8P3M8+Pr+SYyP8ZAQBg0T+5CwAAWCjCBQBgXc7/joUYFgMAWEXPBQBgXY4xhp4LAMAqei4AAOsIFwCAdYQLAMA6wgUAYB3hAgCwjnABAFhHuAAArCNcAADWES4AAOsIFwCAdYQLAMA6wgUAYB3hAgCwjnC5XV0bUGNBjnIqOxV2190EAw0FyvnWo+q8FQcDsOhlGC7j2v9AjnJyXJ8H9mvc2erNElebEu2/4GgAAFgSsvp7LpE/Napk3X6Ny6eWvw7qpTW57iZSJKxDVQVqvvuExjuqlHeXuwEAYLHLsOcSlfu9cq2TJG+VKlMFiyTlelVZ5lPlkwQLACxVWYVLwt0e5bnLAACIubFwydqMBt7crIJvRediPL4Krd+aPF+jmQEdeqpUy2LzNZ7v1qn7UrQqEg6q+81alS7LUe0fZ9TbEJ3bWf9WyLmHhMhIrw41VKjgW7UKKKLQO/FjL5u7zaVu1X3XMztP5ClVY99MojpyKaj2hgqtXFaq/Rek8O/rVLos2rakoVcz8X34l0W3/85mtY84D3D9a0vpWkShU/tVV16gnKcCSVUzf9qvzd+Jn2uJKn6wed55rfDv61TqmZ0L83y3Ub2zl6hIOHqN0fvlcN17E1Btuvm1C/tVEi93nT+ApeGWhEuka7vWf1ik7gkjY64q1OpT2PmMnwmo1leviWcCmjZGV88fVvmFdm1+oE6BryOKXCtQ3pcDCkak8Xca1VlQpfI8aeBsUBHHbqIiiuQVSSO9Cl+bUeD1ZnXf36Lg/wzr8OPSQMOjav481vTagHY+sFlHV7Vr+hsjc3VYLfcHtb+8XoFrsX3dlSdd6NV4JKLBDxt1cKZeJ8aHdfiJPIXeqlDti79SXeuEan47ruFAvfyXulX3XPvsCq/rXlvipJN9PaNcX64m+lxLt77u1PZ17SrqmpYxRldDbfJdSh2wCZ/slK/qqHzvxbb5a4uK/rxfFc/HH/phTXyVp8hIr8LXHNvNe28q1X7+sKryJKlch78c1q77Y9vev0vD3TXSv7VpuKPSsVMAS4bJyklTIxmtaTNj7iqHsVafqflD8s/adNhMO9r0vH04sY/hPUXG+8Kgo9aYsQN+I8mUvzcRLfhDjZFkKjuce0lvrNVnpEpz2Nk8sN1Imj23v58wVXfJlHfEjpHYzmfazieKEmUtodkyM95m/JLxvTrsKDTmRLWMtN2cjP2c0bWl1G/qc2X04/iejDHn24zPfU29B81hx7m6Xe2uMlK5OZw41JhpWzP333D4NZ+RahLnnem9me6sNJJMVefV2UJjTM/Pikx9b1IRgCXklvRcip6o17ozdfJVNitwIdrXKP/5dhVJksYVODWu8OuljiGWHK1sCEqSegcGk/aVd3c2sz15KnA2X+WTz/Gjvl2lE98Y9TzjVWQkoP1PlaqkKX1PINe5QOFfYvvKTV7YEG1zNfZTdteWzKuieE8g7v4q1X8voDrfo2o+NR7ttZXVa7u7nUPuEydkTI+23x0daqv1l6gx3nNztnMvvsjw3uRVH1TbGqn7xRYF4z2fS+36VV+N6stcjQEsGTcWLp+HNPcxM2tmejq54P569U8MquW+gDavWqZl/jp1x0JGkhSRfK1jMsbM/dzsYZWvAmr0L5PniaNS9VH1v5YUPwtn9dqKVH92WoOvFShQtVLLlpWq7nexkLmOmVONKv1njzZ3SbVd/WpZ426RRkb3pkj1r9Uo92+/UuOR6DBe6L39yv2PxuQgB7CkZBkuPpWukaQJzaSbL1BEoc89KlnlKr7br+3vDerq34d1cNVJbV5VpMZPZqtDfbHJ8SQhHXpnwF1oz6V2VRQ8qkDVoKZDR7Vrk++mLJ+2em135cn/zGEN/v2qht8t0smtK1XUkH4/4SMV8lQGtPm/pjX84S5VFucpzSLyZFncm9zH9+tgmdT7/C4FLnWq+Z1y7Xoymx4mgMUmy3Apkv8HuZICOvrHuY9LSdLIIbWdLdc6x1DN+FvN6ow3/7ZP248F9JI3rMDAuKQirS/LlU41avM7oaRv4TNHWhRas85RYlf4VKd6r/lU+6Qvswdu1hZybRFFnBPsiq7Cau6K3ci7cuV75oQCL3gVPtOfvPIuIayTv+2VimtVle69pDSyuzdebX+1XnmRTtU+UK/gz+tVniaIACwNWYaLVP7aCdXkSYGaUtX9LqSZ+BPz67CCR+pU4m9T6YctyQ+Xa92q3dSs3kvRxpHPAwqEJd99BZKkda+eUE3ejHqfL9Gy71So9qd1qv1BgXx9tWopU7Q3NBSdpwgOJT+kU5vRwNmQpF71fjLbeuZsr0KSBs4OKCLJ6/VKCqntxXaFwuMKHmnUzvfGJU1rYjyo9q5g9NjnY2Xh2X1FPulVr6TQ2V7NxEPg2rhC5yVpRhNfRYvmv7Y0vupX/4iks70acFxw91OVau4LR4MnElLgTFhaVaDonXTzquA+SSNtaj4SUvhvQbU37NShC5K+mtD4n9vVOeTeJiqze+Pw/RYdelyamfFp108ZEAOWPPcMf0aujpkTvyg3vjwZKfa5K8/4ynaZE+eTVw0ZY8zYgXXGe5/X5Mbb5vrN9mNjJqnll/2m7YmiWJtc499xwkx8Y2ZXN8W3nXe12tz2vtYxc/LHrn38+KQxZtqc3OGNndM689LZaXP17C7jlYx302Ez/E3qfUVXTTnLa8zJ823Gl1TmWJWW9trSiK2MS9q/ia4WW+f1Gm9uvDy6r7G5t3zW9Emz/b5o+9zvv2T6v7xq+n/hNZLXVL43u9Itek2O1WLz3ptEw1ndNSb3Zz3uUgBLUFb/txgWr/E3S7Syya+T5qiyXWYQFVFnVamGXx3OfMEAgEUr62ExLE6Ra5LWlN74Cq9L7To4Ua+dBAsAwmUJC7erIidHJQ0BzURm1H82pMoX4+8eZSZ8pEI5OctU+u+1Wr/uqDYfqZfX3QjAkkS4LFV3l6q8WAq99ag8nnINPDOmE9XZLR/O8xbJq4iCwYg2/y6gXcXuFgCWKuZcAADWZRUuu3fvdhcByNK+ffvcRcCik3G47N69m18KwAJ+l7AUMOcCALCOcAEAWEe4AACsI1wAANYtbEI/fFpvHOjRVHJpspJqtf7E7y5NL3xab/xG2rZ7o1a46ywIftCkruFiVbduU6qzmq/+5prU6X1t6rmSr4qGX2rjnDcSY/WqUONNuj+4+VL+LgGLjJWeS35Zo1pbW1N/sgkWScGP5wmrJWFKPb85rUl3MQDcIayEC26CKz3qOEW8ALgzWRkWU1mjfrlpnkGaoQ41dU6qomGjLh/o0ki8PDFsFh8Smt2kuKZV29ZqnjpJCqqjqUsqq9BkX6znk2Y4br5hrzn1KYb+ko+txPET1yTXsNZQh5o6pYqySfX0Rfc0dx9KGvaqfjCorj65hsdSD4tFz3l2L5Lz+qLnNllWLf+5rtl7uDy6j8tJ26a4L0MdauqcvbL4dvP8a+M6Uv4uAYvMLe65TKnnQFD++JBZTbE03KU3Tk1KWqGNu1tVXRJ7gLXGH75BdTTFHqiO7UY6m9Th+kNXI31B+RtubDguJUd4Job5aoo10vmGTkf/XHy0TVOXRkqqE20ay6SeA442kqQR9ZzzJ65hbrAku3fTNlUsn394LPhBk7q+cNyb1kZVLB9R177k7ab6unR5Y6xNQ4Xyr/SoralJp++JX9vc7SZPvaGmzhEV1zj2rR61ufYNAG5WwmWqr01NTU0pPu4HrFRc4/hmvPYxVSyXpr64nNzIYfLUaY0oXxVPO74tr92m6hJppLNDSX8PsWRjiknwBQhf1pTy5fc7vqev3abW1tneRHSOqFjVjjBbkSYYijdm841/hTY+HQ2BtMNj4dM6Peze7wpt3FgsXQkq6Lz3JdWzgeb1y788GuLbEj3OFfI/mC9duazov0ZQ/9k3lbxdJucEALbCJf2EvnvFU77uzerhP6nguSlpuV9+13b+tcWSJjXpeIDm33Ovs8nCrfWrWFPqOdCkpg9cf9ZXkhRUcFhSid81xOZ+UOsGrl2Sd6O2leVrqq9jTkjH63+Z6AVN6vS+WKg7h7Fisr43Q0GNSCpe6+oBxoLpel8IAMBKuCzYF5PXH2aJDeEk9YpSPEDt82tba2yobrhr9tjuoHHWxT5tsbmVhUrXC4oLfhA/Zpt6rhSrOjZ0Z8tIp7s3mjz3BQCp3B7hMh/HfMb1e0bzu/eefHeRw6Qmv5C0/F45v+f7fzJ7zMay/GiYOAImfc8t9aKB7DiHoly9haEOdQ1HFwfYO55Tviric1juj405LQCL1m0eLrHhpeFg8txKfLK5yTXnkoEVBSskjSjoWgwQdVmXr0j5D/rTzo1EexLx3pZf/hJp6lxwTq8i+EGTmmxNfCeGxxyrvSRNTkymHG4LDlno1cWGBINB9xUE1dHUFFuEAQCp3Xbhcu89yXMVKzZtVLFcq5/Cp9XRN6X8ssey/6aeWAzgXmwwqdP7ujSiYm2MT3IPdaipybUqLRxU0BFA/kdiK6+cQ2XxHkVWE/jXlwg1Z1nBCskdALFjL5xfj5Xla6qvLen6gx+47hEApGDlPZfrzy7E3p1IvOcyz3sbjn3mJ96fyew9l8lM3reJmTz1xtx5kVTvxrjf80g6r7hM3nNxX3sqKe6HU/zeON81cZ/f8go1Pi11JN4/upzi3qQ+TvSerEh+1yXV/lOdGzKW8ncJWGQWFi4AssbvEpaC225YDABw5yNcAADWES4AAOsIFwCAdYQLAMA6wgUAYB3hAgCwLuP3XBRbnw9gYXjHBUtBVuECAEAmGBYDAFhHuAAArCNcAADWES4AAOsIFwCAdYQLAMA6wgUAYB3hAgCwjnABAFhHuAAArCNcAADWES4AAOsIFwCAdYQLAMA6wgUAYB3hAgCwjnABAFhHuAAArCNcAADWES4AAOsIFwCAdYQLAMC6HGOMcRemEg6H1d3drYsXL7qr7liFhYWqqqqS1+t1VwEAFiDjcHn33XdVXFys0tJSd9Uda3BwUCMjI3ruuefcVQCABch4WOzixYuLKlgkqbS0dFH1xADgdpFxuAAAkCnCBQBgHeECALDu5obLxzvk8XiSPg+/7Zrj+HiHPJ6HdXAs+uPFtx+Wx7NDZ5JbpXXmWY886w+KmRMAuH3cpHC5qIPrPfJUn9Pez6Y1PR37fLZXenntdcOg8PlPNT39vja4KwAAd4ybEi5nnl2rPaEtOjb9qXaudFSs3KlPP9ur1aE92uruwQAAFg374TJ2UM0fSatfaU7d+1j5uFq6hnTsMXdFVMphMffw2rPXGzQ7ox2xdjs+dtcBAG4F++Ey+heNSnpwdaG7JqZQGx4pVOHKdPXJLr79sDzVx7WlKz68dkxbPtqaJmDOaIdnq45ri45NT+v9R9z1AIBbwXq4XBw9J2m1/nW1u+ZGnFHLy6Na/cqQIyg26P2uLdJHx1yT/s5gYc4GAP6RrIeLVWP/rXOpekGPvO+a9P+ttnq26rhWa+9nBAsA/KNZD5fC1Q9KGtVfRt01NyA2xDav0KhGfau1WqPa86P0K9EAALeG9XDRI1u1RdK50fSP+DPPeuZO2i+Eb6+G+j/Vp11bpNAetTCRDwD/UPbDRRu09YfS6MstqcMjtppMP9w6//BVuqAaO6iHU60Ge+R9HfuhdLzaYnABALJ2E8JF2vDrIe31HddWx5v3UiwUHtqjUW3RsV/PGy2SNqj5ldUafXmtI0gu6uCP9mjUt1fNKVaDbWjaq9U6rq0pV5MBAG6FmxIuUqF29k9r6BVpz0OO91Me2iO9MpTVG/iFz3+q6a4tOl4d389a7XnwmKb7dyrlYuaVO3XsldXSR1vn/lczAIBbIuM/FrZ792698MIL7uI73uuvv659+/a5iwEAC3CTei4AgKWMcAEAWEe4AACsI1wAANYRLgAA6zIOl8LCQg0ODrqL72iDg4MqLEy5oBkAsAAZL0UOh8Pq7u7WxYuL592RwsJCVVVVyev1uqsAAAuQcbgAAJCpjIfFAADIFOECALCOcAEAWEe4AACsI1wAANYRLgAA6wgXAIB1hAsAwDrCBQBgHeECALCOcAEAWEe4AACsI1wAANYRLgAA6wgXAIB1hAsAwDrCBQBgHeECALCOcAEAWEe4AACsI1wAANYRLgAA6wgXAIB1hAsAwDrCBQBgHeECALCOcAEAWEe4AACsI1wAANYRLgAA6wgXAIB1hAsAwDrCBQBgHeECALCOcAEAWEe4AACsI1wAANYRLgAA6wgXAIB1hAsAwDrCBQBgHeECALCOcAEAWEe4AACsI1wAANYRLgAA6wgXAIB1hAsAwDrCBQBgHeECALCOcAEAWEe4AACsI1wAANYRLgAA6wgXAIB1hAsAwDrCBQBgHeECALCOcAEAWEe4AACsI1wAANYRLgAA6wgXAIB1hAsAwDrCBQBgHeECALCOcAEAWEe4AACsI1wAANYRLgAA6wgXAIB1hAsAwDrCBQBgHeECALCOcAEAWEe4AACsI1wAANYRLgAA6wgXAIB1hAsAwDrCBQBgHeECALCOcAEAWEe4AACsI1wAANYRLgAA6wgXAIB1hAsAwDrCBQBgHeECALCOcAEAWEe4AACsI1wAANYRLgAA6wgXAIB1hAsAwDrCBQBgHeECALCOcAEAWEe4AACsI1wAANYRLgAA6wgXAIB1hAsAwDrCBQBgHeECALCOcAEAWPf/x+h7Lko72+0AAAAASUVORK5CYII=)"
      ],
      "metadata": {
        "id": "XDfXdjsR639Y"
      }
    }
  ]
}