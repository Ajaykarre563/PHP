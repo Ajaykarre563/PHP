{
  "nbformat": 4,
  "nbformat_minor": 0,
  "metadata": {
    "colab": {
      "provenance": []
    },
    "kernelspec": {
      "name": "python3",
      "display_name": "Python 3"
    },
    "language_info": {
      "name": "python"
    }
  },
  "cells": [
    {
      "cell_type": "markdown",
      "source": [
        "# **How to Make a Basic Function in PHP**"
      ],
      "metadata": {
        "id": "a6M-p82gmV7q"
      }
    },
    {
      "cell_type": "markdown",
      "source": [
        "A function in PHP is created using the function keyword. Here’s a simple example:"
      ],
      "metadata": {
        "id": "emJ2eerHmbQ_"
      }
    },
    {
      "cell_type": "markdown",
      "source": [
        "\n",
        "\n",
        "```\n",
        "<?php\n",
        "function greet() {\n",
        "    echo \"Hello, welcome to PHP!\";\n",
        "}\n",
        "?>\n",
        "\n",
        "```\n",
        "\n"
      ],
      "metadata": {
        "id": "q9h0wyZImfls"
      }
    },
    {
      "cell_type": "markdown",
      "source": [
        "# **How to Call a Function in PHP**\n",
        "\n",
        "To call a function, simply use its name followed by parentheses"
      ],
      "metadata": {
        "id": "5LkFyY4DmnU_"
      }
    },
    {
      "cell_type": "markdown",
      "source": [
        "\n",
        "\n",
        "```\n",
        "<?php\n",
        "greet(); // Output: Hello, welcome to PHP!\n",
        "?>\n",
        "\n",
        "```\n",
        "\n"
      ],
      "metadata": {
        "id": "7zTPPYiQmrau"
      }
    },
    {
      "cell_type": "markdown",
      "source": [
        "#**Interview Questions on PHP Functions**\n",
        "\n",
        "**Here are some common interview questions related to PHP functions:**\n",
        "\n",
        "**What are functions in PHP?**\n",
        "\n",
        "Functions in PHP are blocks of code that can be reused. They help in modularizing and reducing redundancy in code.\n",
        "\n",
        "**What is the difference between built-in and user-defined functions?**\n",
        "\n",
        "Built-in functions are pre-defined in PHP (e.g., strlen(), array_merge()).\n",
        "\n",
        "User-defined functions are created by developers using the function keyword.\n",
        "\n",
        "**What is the difference between return and echo in a function?**\n",
        "\n",
        "echo prints output to the screen but does not return a value.\n",
        "\n",
        "return sends a value back to the calling code."
      ],
      "metadata": {
        "id": "RZOTwmK0mxCG"
      }
    },
    {
      "cell_type": "markdown",
      "source": [
        "# **How do you pass arguments to a function in PHP?**"
      ],
      "metadata": {
        "id": "XwUbrdxlm-sF"
      }
    },
    {
      "cell_type": "markdown",
      "source": [
        "\n",
        "\n",
        "```\n",
        "<?php\n",
        "function addNumbers($a, $b) {\n",
        "    return $a + $b;\n",
        "}\n",
        "echo addNumbers(5, 10); // Output: 15\n",
        "?>\n",
        "\n",
        "```\n",
        "\n"
      ],
      "metadata": {
        "id": "dSXk-hHInB3A"
      }
    },
    {
      "cell_type": "markdown",
      "source": [
        "# **What is a default parameter in PHP functions?**"
      ],
      "metadata": {
        "id": "xl-nZqT1nKNi"
      }
    },
    {
      "cell_type": "markdown",
      "source": [
        "\n",
        "\n",
        "```\n",
        "<?php\n",
        "function sayHello($name = \"Guest\") {\n",
        "    echo \"Hello, $name!\";\n",
        "}\n",
        "sayHello(); // Output: Hello, Guest!\n",
        "sayHello(\"John\"); // Output: Hello, John!\n",
        "?>\n",
        "\n",
        "```\n",
        "\n"
      ],
      "metadata": {
        "id": "CaDozo9EnFZd"
      }
    },
    {
      "cell_type": "markdown",
      "source": [
        "# **Sample Code**"
      ],
      "metadata": {
        "id": "8wi0Bs2UocpN"
      }
    },
    {
      "cell_type": "markdown",
      "source": [
        "\n",
        "\n",
        "```\n",
        "<?php\n",
        "function dummy() {\n",
        "    echo \"<h1>User Details</h1>\";\n",
        "}\n",
        "\n",
        "function displayUserDetails() {\n",
        "    dummy();\n",
        "    echo \"User name is Anil\";\n",
        "    echo \"<br/>\";\n",
        "    echo \"User age is 27\";\n",
        "    echo \"<br/>\";\n",
        "    echo \"User email id is anil@test.com\";\n",
        "    echo \"<hr/>\";\n",
        "}\n",
        "\n",
        "// Calling the function twice\n",
        "displayUserDetails();\n",
        "displayUserDetails();\n",
        "?>\n",
        "\n",
        "```\n",
        "\n"
      ],
      "metadata": {
        "id": "J8RncWgvogKT"
      }
    },
    {
      "cell_type": "markdown",
      "source": [
        "![Screenshot 2025-03-29 121132.png](data:image/png;base64,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)"
      ],
      "metadata": {
        "id": "citmptWdonUR"
      }
    },
    {
      "cell_type": "markdown",
      "source": [
        "# **What is a Parameterized Function?**"
      ],
      "metadata": {
        "id": "yRKz1jO2p1-j"
      }
    },
    {
      "cell_type": "markdown",
      "source": [
        "A parameterized function is a function that accepts input values (parameters) to perform operations based on those values."
      ],
      "metadata": {
        "id": "eHXGjfzAp4uK"
      }
    },
    {
      "cell_type": "markdown",
      "source": [
        "# **Why Do We Need Parameters in Functions?**\n",
        "\n",
        "Reusability: Avoids hardcoding values, making the function more flexible.\n",
        "\n",
        "Modularity: Helps break down complex logic into smaller, reusable components.\n",
        "\n",
        "Efficiency: Reduces redundancy and improves code maintainability."
      ],
      "metadata": {
        "id": "bsLkjMcBp7P2"
      }
    },
    {
      "cell_type": "markdown",
      "source": [
        "# **Syntax of a Parameterized Function**"
      ],
      "metadata": {
        "id": "Z1c7NYPhp_WZ"
      }
    },
    {
      "cell_type": "markdown",
      "source": [
        "\n",
        "\n",
        "```\n",
        "function functionName($param1, $param2) {\n",
        "    // Function body\n",
        "}\n",
        "\n",
        "```\n",
        "\n"
      ],
      "metadata": {
        "id": "oHpTjXKIqDgd"
      }
    },
    {
      "cell_type": "markdown",
      "source": [
        "# **Example of a Function with Parameters**\n"
      ],
      "metadata": {
        "id": "mL9qacmXqJyM"
      }
    },
    {
      "cell_type": "markdown",
      "source": [
        "\n",
        "\n",
        "```\n",
        "<?php\n",
        "function greetUser($name) {\n",
        "    echo \"Hello, $name! Welcome to PHP.\";\n",
        "}\n",
        "\n",
        "greetUser(\"Anil\"); // Output: Hello, Anil! Welcome to PHP.\n",
        "?>\n",
        "\n",
        "```\n",
        "\n"
      ],
      "metadata": {
        "id": "eOJELxGJqNuI"
      }
    },
    {
      "cell_type": "markdown",
      "source": [
        "# **Common Interview Question**\n",
        "\n",
        "# **What is the difference between arguments and parameters?**\n",
        "\n",
        "Parameters are the variables listed in the function definition.\n",
        "\n",
        "Arguments are the actual values passed to the function when calling it."
      ],
      "metadata": {
        "id": "QNueUt3qqRvR"
      }
    },
    {
      "cell_type": "markdown",
      "source": [
        "# **Can we assign default values to function parameters in PHP?**"
      ],
      "metadata": {
        "id": "GmMKjd37qZRe"
      }
    },
    {
      "cell_type": "markdown",
      "source": [
        "\n",
        "\n",
        "```\n",
        "function greet($name = \"Guest\") {\n",
        "    echo \"Hello, $name!\";\n",
        "}\n",
        "greet(); // Output: Hello, Guest!\n",
        "greet(\"John\"); // Output: Hello, John!\n",
        "\n",
        "```\n",
        "\n"
      ],
      "metadata": {
        "id": "G_ay3Q3rqcwQ"
      }
    },
    {
      "cell_type": "markdown",
      "source": [
        "# **What happens if we pass more arguments than the function expects?**\n",
        "\n",
        "PHP will throw a fatal error if a function is called with more arguments than defined."
      ],
      "metadata": {
        "id": "UQQl_yg0qgmV"
      }
    },
    {
      "cell_type": "markdown",
      "source": [
        "# **Function with Return Statement in PHP**"
      ],
      "metadata": {
        "id": "4Okfs64UrEyM"
      }
    },
    {
      "cell_type": "markdown",
      "source": [
        "# **1. What is a Function with Return?**\n",
        "\n",
        "A function with a return statement returns a value to the calling code instead of just printing output. The return keyword is used for this.\n",
        "\n",
        "# **2. Why Do We Need a Function with Return?**\n",
        "\n",
        "Reusability: The returned value can be used in multiple places.\n",
        "\n",
        "Flexibility: The function can be used in expressions.\n",
        "\n",
        "Better Code Structure: Helps in breaking large programs into smaller reusable units."
      ],
      "metadata": {
        "id": "U4yKb3sArLbY"
      }
    },
    {
      "cell_type": "markdown",
      "source": [
        "#**Syntax**"
      ],
      "metadata": {
        "id": "6KAl1LoArRvP"
      }
    },
    {
      "cell_type": "markdown",
      "source": [
        "\n",
        "\n",
        "```\n",
        "function functionName() {\n",
        "    return value;\n",
        "}\n",
        "\n",
        "```\n",
        "\n"
      ],
      "metadata": {
        "id": "rsNnf2xSrXkp"
      }
    },
    {
      "cell_type": "markdown",
      "source": [
        "# **Example**"
      ],
      "metadata": {
        "id": "JAjQmkdcrb8j"
      }
    },
    {
      "cell_type": "markdown",
      "source": [
        "\n",
        "\n",
        "```\n",
        "<?php\n",
        "function addNumbers($a, $b) {\n",
        "    return $a + $b;\n",
        "}\n",
        "\n",
        "$result = addNumbers(5, 10);\n",
        "echo \"The sum is: \" . $result; // Output: The sum is: 15\n",
        "?>\n",
        "\n",
        "```\n",
        "\n"
      ],
      "metadata": {
        "id": "RJmwcCHkrhWL"
      }
    },
    {
      "cell_type": "markdown",
      "source": [
        "# **Interview Questions**"
      ],
      "metadata": {
        "id": "CiUwM3Z2rlQ5"
      }
    },
    {
      "cell_type": "markdown",
      "source": [
        "# **What is the difference between return and echo?**\n",
        "\n",
        "return sends a value back to the calling code, while echo prints output directly.\n"
      ],
      "metadata": {
        "id": "qLrKR4HRroaM"
      }
    },
    {
      "cell_type": "markdown",
      "source": [
        "# **Can a function return multiple values in PHP?**\n",
        "\n",
        "PHP does not directly support multiple return values, but we can return an array:"
      ],
      "metadata": {
        "id": "qNUZ8JlTryZ5"
      }
    },
    {
      "cell_type": "markdown",
      "source": [
        "\n",
        "\n",
        "```\n",
        "function getDetails() {\n",
        "    return [\"Anil\", 27, \"anil@test.com\"];\n",
        "}\n",
        "list($name, $age, $email) = getDetails();\n",
        "echo \"Name: $name, Age: $age, Email: $email\";\n",
        "\n",
        "```\n",
        "\n"
      ],
      "metadata": {
        "id": "M0-wUmWlr1iY"
      }
    },
    {
      "cell_type": "markdown",
      "source": [
        "# **What happens if a function does not have a return statement?**\n",
        "\n",
        "It will return NULL by default."
      ],
      "metadata": {
        "id": "8LRAvj_Xr6rb"
      }
    },
    {
      "cell_type": "markdown",
      "source": [
        "# **Function with Default Parameters in PHP**\n",
        "\n",
        "# **1. What Are Default Parameters?**\n",
        "\n",
        "A default parameter is a function parameter that has a predefined value.\n",
        "\n",
        "If no argument is passed while calling the function, the default value is used."
      ],
      "metadata": {
        "id": "Fw_bL61gsf8N"
      }
    },
    {
      "cell_type": "markdown",
      "source": [
        "# **Syntax**"
      ],
      "metadata": {
        "id": "3uiExXD3soRO"
      }
    },
    {
      "cell_type": "markdown",
      "source": [
        "\n",
        "\n",
        "```\n",
        "function functionName($param1 = \"default_value\") {\n",
        "    // Function body\n",
        "}\n",
        "```\n",
        "\n"
      ],
      "metadata": {
        "id": "2IArhrpPsy0D"
      }
    },
    {
      "cell_type": "markdown",
      "source": [
        "# **Example**"
      ],
      "metadata": {
        "id": "9LaqQ49Ps3QG"
      }
    },
    {
      "cell_type": "markdown",
      "source": [
        "\n",
        "\n",
        "```\n",
        "<?php\n",
        "function greet($name = \"Guest\") {\n",
        "    echo \"Hello, $name! Welcome to PHP.\";\n",
        "}\n",
        "\n",
        "greet(); // Output: Hello, Guest! Welcome to PHP.\n",
        "greet(\"Anil\"); // Output: Hello, Anil! Welcome to PHP.\n",
        "?>\n",
        "\n",
        "```\n",
        "\n"
      ],
      "metadata": {
        "id": "xt7PUFM1s7n0"
      }
    },
    {
      "cell_type": "markdown",
      "source": [
        "# **Interview Questions**\n",
        "\n",
        "**What happens if we pass a value when calling a function with a default parameter?**\n",
        "\n",
        "The passed value overrides the default value."
      ],
      "metadata": {
        "id": "D6E1b1wqs_ih"
      }
    },
    {
      "cell_type": "markdown",
      "source": [
        "# **Can we have multiple default parameters in a function?**\n",
        "\n",
        "Yes, for example:"
      ],
      "metadata": {
        "id": "hQYZ1q0atKYk"
      }
    },
    {
      "cell_type": "markdown",
      "source": [
        "\n",
        "\n",
        "```\n",
        "function userInfo($name = \"Guest\", $age = 25) {\n",
        "    echo \"Name: $name, Age: $age\";\n",
        "}\n",
        "userInfo(); // Output: Name: Guest, Age: 25\n",
        "userInfo(\"John\", 30); // Output: Name: John, Age: 30\n",
        "\n",
        "```\n",
        "\n"
      ],
      "metadata": {
        "id": "nMYAnRugtODQ"
      }
    },
    {
      "cell_type": "markdown",
      "source": [
        "# **Can a non-default parameter be placed after a default parameter?**\n",
        "\n",
        "No, in PHP, default parameters must come after non-default parameters."
      ],
      "metadata": {
        "id": "NRjvFpSStR_K"
      }
    },
    {
      "cell_type": "markdown",
      "source": [
        "\n",
        "\n",
        "```\n",
        "function test($a = 10, $b) {  // ❌ Error\n",
        "    echo $a + $b;\n",
        "}\n",
        "\n",
        "```\n",
        "\n"
      ],
      "metadata": {
        "id": "xkQvzlj5tWFu"
      }
    },
    {
      "cell_type": "markdown",
      "source": [
        "\n",
        "\n",
        "```\n",
        "function test($a, $b = 10) {  // ✅ Works fine\n",
        "    echo $a + $b;\n",
        "}\n",
        "\n",
        "```\n",
        "\n"
      ],
      "metadata": {
        "id": "6WejdXshtaqT"
      }
    },
    {
      "cell_type": "markdown",
      "source": [
        "#**What is a Nested Function in PHP?**\n",
        "\n",
        "A nested function is a function defined inside another function. In PHP, nested functions can only be declared but not executed until the outer function is called.\n"
      ],
      "metadata": {
        "id": "DV9Pq617uKZR"
      }
    },
    {
      "cell_type": "markdown",
      "source": [
        "# **Syntax**"
      ],
      "metadata": {
        "id": "jDTyfCw-uT4z"
      }
    },
    {
      "cell_type": "markdown",
      "source": [
        "\n",
        "\n",
        "```\n",
        "<?php\n",
        "function outerFunction() {\n",
        "    echo \"This is the outer function\\n\";\n",
        "\n",
        "    function innerFunction() {\n",
        "        echo \"This is the inner function\\n\";\n",
        "    }\n",
        "}\n",
        "\n",
        "// Calling the outer function first\n",
        "outerFunction();\n",
        "\n",
        "// Now we can call the inner function\n",
        "innerFunction();\n",
        "?>\n",
        "\n",
        "```\n",
        "\n"
      ],
      "metadata": {
        "id": "OJoWZD90uX6u"
      }
    },
    {
      "cell_type": "markdown",
      "source": [
        "\n",
        "\n",
        "```\n",
        "This is the outer function\n",
        "This is the inner function\n",
        "\n",
        "```\n",
        "\n"
      ],
      "metadata": {
        "id": "6GLjzrmtuc8g"
      }
    },
    {
      "cell_type": "markdown",
      "source": [
        "# **Interview Questions on PHP Nested Functions**\n",
        "\n",
        "**Can we define a function inside another function in PHP?**\n",
        "\n",
        "→ Yes, but the inner function can only be executed after the outer function is called.\n",
        "\n",
        "**Can the inner function access variables from the outer function?**\n",
        "\n",
        "→ No, unless passed as a parameter (PHP doesn’t have nonlocal like Python).\n",
        "\n",
        "**Why use nested functions in PHP?**\n",
        "\n",
        "→ For better code organization, encapsulation, and reducing function scope.\n",
        "\n",
        "**Can an inner function be accessed globally?**\n",
        "\n",
        "→ No, the inner function is not available until the outer function runs.\n",
        "\n"
      ],
      "metadata": {
        "id": "b_8swvDWuhTX"
      }
    },
    {
      "cell_type": "code",
      "execution_count": null,
      "metadata": {
        "id": "vH7SP26alkoe"
      },
      "outputs": [],
      "source": []
    }
  ]
}