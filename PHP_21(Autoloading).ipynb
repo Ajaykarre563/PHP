{
  "nbformat": 4,
  "nbformat_minor": 0,
  "metadata": {
    "colab": {
      "provenance": []
    },
    "kernelspec": {
      "name": "python3",
      "display_name": "Python 3"
    },
    "language_info": {
      "name": "python"
    }
  },
  "cells": [
    {
      "cell_type": "markdown",
      "source": [
        "# **Autoloading Files and Classes means:**\n",
        "\n",
        "When you use a class, PHP will automatically load the file that contains that class, without needing to use include or require manually.\n",
        "\n",
        "This keeps your code clean and organized, especially when working with many classes."
      ],
      "metadata": {
        "id": "WewQ0rpM8KlO"
      }
    },
    {
      "cell_type": "markdown",
      "source": [
        "# **sample code:**"
      ],
      "metadata": {
        "id": "FnfY-HjD99YQ"
      }
    },
    {
      "cell_type": "markdown",
      "source": [
        "\n",
        "\n",
        "```\n",
        "<?php\n",
        "\n",
        "class Teacher {\n",
        "    public function __construct() {\n",
        "        echo \"Teacher class loaded<br>\";\n",
        "    }\n",
        "}\n",
        "\n",
        "?>\n",
        "\n",
        "```\n",
        "\n"
      ],
      "metadata": {
        "id": "PlrtQPQl-FAF"
      }
    },
    {
      "cell_type": "markdown",
      "source": [
        "\n",
        "\n",
        "```\n",
        "<?php\n",
        "\n",
        "class Student {\n",
        "    public function __construct() {\n",
        "        echo \"Student class loaded<br>\";\n",
        "    }\n",
        "}\n",
        "\n",
        "?>\n",
        "\n",
        "```\n",
        "\n"
      ],
      "metadata": {
        "id": "v6g9m4vZ-J61"
      }
    },
    {
      "cell_type": "markdown",
      "source": [
        "\n",
        "\n",
        "```\n",
        "<?php\n",
        "\n",
        "class Management {\n",
        "    public function __construct() {\n",
        "        echo \"Management class loaded<br>\";\n",
        "    }\n",
        "}\n",
        "\n",
        "?>\n",
        "\n",
        "```\n",
        "\n"
      ],
      "metadata": {
        "id": "NpkOQkdj-O8Z"
      }
    },
    {
      "cell_type": "markdown",
      "source": [
        "\n",
        "\n",
        "```\n",
        "<?php\n",
        "\n",
        "function autoLoader($class) {\n",
        "    include $class . '.php';\n",
        "}\n",
        "\n",
        "spl_autoload_register('autoLoader'); //it is used to register the autoload function\n",
        "//spl_autoload_register() function is used to register the autoload function. It takes the name of the function as a parameter.\n",
        "\n",
        "$t1 = new Teacher();\n",
        "$s1 = new Student();\n",
        "$m1 = new Management();\n",
        "\n",
        "?>\n",
        "\n",
        "```\n",
        "\n"
      ],
      "metadata": {
        "id": "F1dV6m8W-Tk8"
      }
    },
    {
      "cell_type": "markdown",
      "source": [
        "![image.png](data:image/png;base64,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)"
      ],
      "metadata": {
        "id": "hUIMkH_4-ZwE"
      }
    },
    {
      "cell_type": "code",
      "source": [],
      "metadata": {
        "id": "1x1prfQe-aK7"
      },
      "execution_count": null,
      "outputs": []
    }
  ]
}