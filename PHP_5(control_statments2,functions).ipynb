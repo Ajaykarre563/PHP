{
  "nbformat": 4,
  "nbformat_minor": 0,
  "metadata": {
    "colab": {
      "provenance": []
    },
    "kernelspec": {
      "name": "python3",
      "display_name": "Python 3"
    },
    "language_info": {
      "name": "python"
    }
  },
  "cells": [
    {
      "cell_type": "markdown",
      "source": [
        "# **What is a Nested Loop?**\n",
        "\n",
        "A nested loop is a loop inside another loop. The inner loop runs completely for each iteration of the outer loop."
      ],
      "metadata": {
        "id": "bC876wlSwVX6"
      }
    },
    {
      "cell_type": "markdown",
      "source": [
        "# **Implementing a Nested Loop in PHP**"
      ],
      "metadata": {
        "id": "GX0LtzfrwZ5J"
      }
    },
    {
      "cell_type": "markdown",
      "source": [
        "\n",
        "\n",
        "```\n",
        "<?php\n",
        "// Number of rows\n",
        "$rows = 5;\n",
        "\n",
        "for ($i = 1; $i <= $rows; $i++) { // Outer loop\n",
        "    for ($j = 1; $j <= $i; $j++) { // Inner loop\n",
        "        echo \"* \"; // Print star\n",
        "    }\n",
        "    echo \"<br>\"; // New line\n",
        "}\n",
        "?>\n",
        "\n",
        "```\n",
        "\n"
      ],
      "metadata": {
        "id": "BotgvYghwezo"
      }
    },
    {
      "cell_type": "markdown",
      "source": [
        "\n",
        "\n",
        "```\n",
        "*  \n",
        "* *  \n",
        "* * *  \n",
        "* * * *  \n",
        "* * * * *  \n",
        "\n",
        "```\n",
        "\n"
      ],
      "metadata": {
        "id": "8v3lZSNQwizk"
      }
    },
    {
      "cell_type": "markdown",
      "source": [
        "# **Where Can We Use Nested Loops?**"
      ],
      "metadata": {
        "id": "uQjjF197wrPP"
      }
    },
    {
      "cell_type": "markdown",
      "source": [
        "Printing patterns (like the one above)\n",
        "\n",
        "Working with 2D arrays (nested loops are useful for iterating over rows and columns)\n",
        "\n",
        "Processing tables in databases\n",
        "\n",
        "Generating combinations of data"
      ],
      "metadata": {
        "id": "NYlu9GVpwugz"
      }
    },
    {
      "cell_type": "markdown",
      "source": [
        "# **Interviews Questions**"
      ],
      "metadata": {
        "id": "M1i6s__fw6rj"
      }
    },
    {
      "cell_type": "markdown",
      "source": [
        "**What is a nested loop, and why do we use it?**\n",
        "\n",
        "A nested loop is a loop inside another loop, used for handling multi-dimensional data like matrices or tables.\n",
        "\n",
        "**What is the time complexity of a nested loop?**\n",
        "\n",
        "The time complexity of a two-level nested loop is usually O(n²), but it depends on the number of iterations.\n",
        "\n",
        "**Can we use a while or foreach loop inside a for loop?**\n",
        "\n",
        "Yes, any loop (for, while, foreach, or do-while) can be nested inside another loop."
      ],
      "metadata": {
        "id": "h3jzbDrtw-nT"
      }
    },
    {
      "cell_type": "markdown",
      "source": [
        "# **Write a PHP program using nested loops to print a number pyramid:**"
      ],
      "metadata": {
        "id": "ehe63MEoxGvd"
      }
    },
    {
      "cell_type": "markdown",
      "source": [
        "\n",
        "\n",
        "```\n",
        "<?php\n",
        "$n = 5;\n",
        "for ($i = 1; $i <= $n; $i++) {\n",
        "    for ($j = 1; $j <= $i; $j++) {\n",
        "        echo $j . \" \";\n",
        "    }\n",
        "    echo \"\\n\";\n",
        "}\n",
        "?>\n",
        "\n",
        "```\n",
        "\n"
      ],
      "metadata": {
        "id": "kGxObkCxxJ1z"
      }
    },
    {
      "cell_type": "markdown",
      "source": [
        "\n",
        "\n",
        "```\n",
        "1  \n",
        "1 2  \n",
        "1 2 3  \n",
        "1 2 3 4  \n",
        "1 2 3 4 5  \n",
        "\n",
        "```\n",
        "\n"
      ],
      "metadata": {
        "id": "FoNas28sxNij"
      }
    },
    {
      "cell_type": "markdown",
      "source": [
        "# **While Loop in PHP**\n",
        "\n",
        "\n",
        "# **How does a while loop work?**\n",
        "\n",
        "A while loop in PHP repeatedly executes a block of code as long as a specified condition remains true."
      ],
      "metadata": {
        "id": "jK1IrxsHziqU"
      }
    },
    {
      "cell_type": "markdown",
      "source": [
        "# **Example of a while loop in PHP:**"
      ],
      "metadata": {
        "id": "bLwZXglhzqKb"
      }
    },
    {
      "cell_type": "markdown",
      "source": [
        "\n",
        "\n",
        "```\n",
        "<?php\n",
        "$count = 1;\n",
        "while ($count <= 5) {\n",
        "    echo \"Count: \" . $count . \"<br>\";\n",
        "    $count++;\n",
        "}\n",
        "?>\n",
        "\n",
        "```\n",
        "\n"
      ],
      "metadata": {
        "id": "dfg1K_k7zvTk"
      }
    },
    {
      "cell_type": "markdown",
      "source": [
        "\n",
        "\n",
        "```\n",
        "Count: 1  \n",
        "Count: 2  \n",
        "Count: 3  \n",
        "Count: 4  \n",
        "Count: 5  \n",
        "\n",
        "```\n",
        "\n"
      ],
      "metadata": {
        "id": "Mn6UD-0Uz0Qh"
      }
    },
    {
      "cell_type": "markdown",
      "source": [
        "# **Interview Questions on While Loop in PHP**\n",
        "\n",
        "**What is the difference between while and do-while loops?**\n",
        "\n",
        "→ while checks the condition first, whereas do-while executes at least once before checking the condition.\n",
        "\n",
        "**What happens if the condition in a while loop is always true?**\n",
        "\n",
        "→ It leads to an infinite loop, which can crash the program.\n",
        "\n",
        "**Can we use a break statement inside a while loop?**\n",
        "\n",
        "→ Yes, the break statement exits the loop prematurely."
      ],
      "metadata": {
        "id": "Zj2jAP-Ez5Zf"
      }
    },
    {
      "cell_type": "markdown",
      "source": [
        "# **Do-While Loop in PHP**"
      ],
      "metadata": {
        "id": "qqt_38Cy0cRv"
      }
    },
    {
      "cell_type": "markdown",
      "source": [
        "# **How does a do-while loop work?**\n",
        "\n",
        "\n",
        "A do-while loop in PHP executes the block of code at least once, then checks the condition. If the condition is true, it continues; otherwise, it stops."
      ],
      "metadata": {
        "id": "CDraN7Ia0fw4"
      }
    },
    {
      "cell_type": "markdown",
      "source": [
        "# **Example of a do-while loop in PHP:**"
      ],
      "metadata": {
        "id": "gFVqwkhk0kKV"
      }
    },
    {
      "cell_type": "markdown",
      "source": [
        "\n",
        "\n",
        "```\n",
        "<?php\n",
        "$count = 1;\n",
        "do {\n",
        "    echo \"Count: \" . $count . \"<br>\";\n",
        "    $count++;\n",
        "} while ($count <= 5);\n",
        "?>\n",
        "\n",
        "```\n",
        "\n"
      ],
      "metadata": {
        "id": "1hGB8QQq0nul"
      }
    },
    {
      "cell_type": "markdown",
      "source": [
        "\n",
        "\n",
        "```\n",
        "Count: 1  \n",
        "Count: 2  \n",
        "Count: 3  \n",
        "Count: 4  \n",
        "Count: 5  \n",
        "\n",
        "```\n",
        "\n"
      ],
      "metadata": {
        "id": "lNWPNdxN0qpT"
      }
    },
    {
      "cell_type": "markdown",
      "source": [
        "# **Interview Questions on Do-While Loop in PHP**\n",
        "\n",
        "**How is a do-while loop different from a while loop?**\n",
        "\n",
        "→ do-while executes at least once, while while checks the condition before execution.\n",
        "\n",
        "**Can we use a break statement inside a do-while loop?**\n",
        "\n",
        "→ Yes, break can be used to exit the loop prematurely.\n",
        "\n",
        "**What happens if the condition in a do-while loop is false in the first iteration?**\n",
        "\n",
        "→ The loop still executes once before stopping."
      ],
      "metadata": {
        "id": "rBkLIOgS0u6V"
      }
    },
    {
      "cell_type": "markdown",
      "source": [
        "# **Go-To Statement in PHP**"
      ],
      "metadata": {
        "id": "HEBJTNrG2pXM"
      }
    },
    {
      "cell_type": "markdown",
      "source": [
        "#**What is a Go-To Statement?**\n",
        "\n",
        "The goto statement in PHP allows jumping to a specific labeled section of code. It can be useful in breaking out of deeply nested loops but is generally discouraged due to readability and maintainability issues."
      ],
      "metadata": {
        "id": "HOoqZANA2u58"
      }
    },
    {
      "cell_type": "markdown",
      "source": [
        "#**Syntax of Go-To Statement in PHP:**"
      ],
      "metadata": {
        "id": "CdDf4lLM23SH"
      }
    },
    {
      "cell_type": "markdown",
      "source": [
        "\n",
        "\n",
        "```\n",
        "goto label;\n",
        "echo \"This line will be skipped.\"; // This line is ignored\n",
        "\n",
        "label:\n",
        "echo \"Jumped to label!\";\n",
        "\n",
        "```\n",
        "\n"
      ],
      "metadata": {
        "id": "GytN_zNP29Sk"
      }
    },
    {
      "cell_type": "markdown",
      "source": [
        "#**Example of goto Statement in PHP:**"
      ],
      "metadata": {
        "id": "qK48A_o039vK"
      }
    },
    {
      "cell_type": "markdown",
      "source": [
        "\n",
        "\n",
        "```\n",
        "<?php\n",
        "echo \"Start<br>\";\n",
        "goto skip; // Jump to 'skip' label\n",
        "echo \"This line will not be executed.<br>\";\n",
        "\n",
        "skip:\n",
        "echo \"Jumped to 'skip' label.<br>\";\n",
        "?>\n",
        "\n",
        "```\n",
        "\n"
      ],
      "metadata": {
        "id": "lSAwW6xs4FMz"
      }
    },
    {
      "cell_type": "markdown",
      "source": [
        "# **Output:**"
      ],
      "metadata": {
        "id": "sSg3gA8C4JHF"
      }
    },
    {
      "cell_type": "markdown",
      "source": [
        "\n",
        "\n",
        "```\n",
        "Start  \n",
        "Jumped to 'skip' label.\n",
        "\n",
        "```\n",
        "\n"
      ],
      "metadata": {
        "id": "VdgfK1xe4Mqs"
      }
    },
    {
      "cell_type": "markdown",
      "source": [
        "# **Example with Loops (Breaking Out of Loops using goto)**"
      ],
      "metadata": {
        "id": "8WPblrXJ4RaR"
      }
    },
    {
      "cell_type": "markdown",
      "source": [
        "\n",
        "\n",
        "```\n",
        "<?php\n",
        "for ($i = 1; $i <= 5; $i++) {\n",
        "    for ($j = 1; $j <= 5; $j++) {\n",
        "        if ($i == 3 && $j == 3) {\n",
        "            goto end; // Breaks out of both loops\n",
        "        }\n",
        "        echo \"i = $i, j = $j<br>\";\n",
        "    }\n",
        "}\n",
        "end:\n",
        "echo \"Loop exited using goto.<br>\";\n",
        "?>\n",
        "\n",
        "```\n",
        "\n"
      ],
      "metadata": {
        "id": "sKUdpTzm4biX"
      }
    },
    {
      "cell_type": "markdown",
      "source": [
        "![Screenshot 2025-03-29 084620.png](data:image/png;base64,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)"
      ],
      "metadata": {
        "id": "j0650NgS5qp-"
      }
    },
    {
      "cell_type": "markdown",
      "source": [
        "# **Interview Questions on Go-To Statement in PHP**\n",
        "\n",
        "**Why is goto not recommended in modern programming?**\n",
        "\n",
        "→ It makes code hard to read, debug, and maintain. Structured loops and functions are preferred.\n",
        "\n",
        "**Can goto be used to jump into a loop?**\n",
        "\n",
        "→ No, goto can only jump within the same function and cannot enter a loop from outside.\n",
        "\n",
        "**What is an alternative to goto for breaking out of multiple loops?**\n",
        "\n",
        "→ Using break with loop labels or restructuring the logic using functions."
      ],
      "metadata": {
        "id": "vZkTN1R04fxE"
      }
    },
    {
      "cell_type": "markdown",
      "source": [
        "# **Functions in PHP**\n",
        "\n",
        "# **What are Functions?**\n",
        "\n",
        "A function in PHP is a block of reusable code that performs a specific task when called.\n",
        "\n",
        "# **Use of Functions in PHP:**\n",
        "\n",
        "Code reusability\n",
        "\n",
        "Improved readability\n",
        "\n",
        "Easier debugging and maintenance\n",
        "\n",
        "Reducing code redundancy\n",
        "\n",
        "# **Types of Functions in PHP:**\n",
        "\n",
        "Built-in Functions (e.g., strlen(), array_push(), date())\n",
        "\n",
        "User-defined Functions (created by programmers)\n",
        "\n",
        "Anonymous Functions (Closures)\n",
        "\n",
        "Recursive Functions"
      ],
      "metadata": {
        "id": "TWpwgpxN6a9U"
      }
    },
    {
      "cell_type": "markdown",
      "source": [
        "# **Syntax of a Function in PHP:**"
      ],
      "metadata": {
        "id": "YN6JtKt76oc5"
      }
    },
    {
      "cell_type": "markdown",
      "source": [
        "\n",
        "\n",
        "```\n",
        "<?php\n",
        "function greet($name) {\n",
        "    return \"Hello, \" . $name . \"!\";\n",
        "}\n",
        "\n",
        "echo greet(\"John\"); // Output: Hello, John!\n",
        "?>\n",
        "\n",
        "```\n",
        "\n"
      ],
      "metadata": {
        "id": "c-pNAwik6sX9"
      }
    },
    {
      "cell_type": "markdown",
      "source": [
        "# **Interview Questions on Functions in PHP**\n",
        "\n",
        "# **What is the difference between built-in and user-defined functions?**\n",
        "\n",
        "→ Built-in functions are provided by PHP, while user-defined functions are created by the programmer.\n",
        "\n",
        "# **Can a function return multiple values in PHP?**\n",
        "\n",
        "→ Not directly, but you can return an array.\n",
        "\n",
        "What is a recursive function?\n",
        "→ A function that calls itself until a base condition is met.\n",
        "\n",
        "# **What is the difference between include() and require()?**\n",
        "\n",
        "→ require() stops execution if the file is missing, while include() issues a warning but continues execution."
      ],
      "metadata": {
        "id": "MmWjOpD_6vcK"
      }
    },
    {
      "cell_type": "code",
      "execution_count": null,
      "metadata": {
        "id": "okXJ8eP_v29J"
      },
      "outputs": [],
      "source": []
    }
  ]
}